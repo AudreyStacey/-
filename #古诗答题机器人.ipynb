{
 "cells": [
  {
   "cell_type": "code",
   "execution_count": 3,
   "metadata": {
    "collapsed": true
   },
   "outputs": [],
   "source": [
    "fh = open(r'F:\\temp\\诗词大全.txt')#获取所有的诗词\n",
    "poems = fh.read()\n",
    "fh.close()"
   ]
  },
  {
   "cell_type": "code",
   "execution_count": 4,
   "metadata": {
    "collapsed": true
   },
   "outputs": [],
   "source": [
    "poems = poems.replace('，', '\\n')#处理文本\n",
    "poems = poems.replace('。', '')\n",
    "poems = poems.split('\\n')"
   ]
  },
  {
   "cell_type": "code",
   "execution_count": 5,
   "metadata": {
    "collapsed": true
   },
   "outputs": [],
   "source": [
    "def find_poem_sentence(poems, characters): #机器人主体   \n",
    "    for poem in poems:\n",
    "        same_character_number = 0\n",
    "        for ch in poem:\n",
    "            if ch in characters:\n",
    "                same_character_number += 1\n",
    "        if same_character_number == 5:\n",
    "            return poem\n",
    "    return None"
   ]
  },
  {
   "cell_type": "code",
   "execution_count": 10,
   "metadata": {
    "scrolled": false
   },
   "outputs": [
    {
     "name": "stdout",
     "output_type": "stream",
     "text": [
      "请输入含有诗句的九个字：人花但月见笑春两新\n",
      "但见新人笑\n"
     ]
    }
   ],
   "source": [
    "your_poem = input('请输入含有诗句的九个字：')#输入诗句\n",
    "characters = []#将输入的诗句进行处理\n",
    "for i in range(9):\n",
    "    ch = your_poem[i]\n",
    "    characters.append(ch)\n",
    "print( find_poem_sentence(poems, characters))"
   ]
  }
 ],
 "metadata": {
  "kernelspec": {
   "display_name": "Python 3",
   "language": "python",
   "name": "python3"
  },
  "language_info": {
   "codemirror_mode": {
    "name": "ipython",
    "version": 3
   },
   "file_extension": ".py",
   "mimetype": "text/x-python",
   "name": "python",
   "nbconvert_exporter": "python",
   "pygments_lexer": "ipython3",
   "version": "3.6.3"
  }
 },
 "nbformat": 4,
 "nbformat_minor": 2
}
